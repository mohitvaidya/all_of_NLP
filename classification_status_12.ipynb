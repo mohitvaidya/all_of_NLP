{
 "cells": [
  {
   "cell_type": "markdown",
   "metadata": {},
   "source": [
    "## solution has been separated into three worksheets(notebook).\n",
    "* classification for Status 12\n",
    "* classification for Status 24\n",
    "* Visualization and data distribution"
   ]
  },
  {
   "cell_type": "code",
   "execution_count": 1,
   "metadata": {},
   "outputs": [],
   "source": [
    "# import pandas as pd\n",
    "# from pyxlsb import open_workbook as open_xlsb\n",
    "\n",
    "# data = []\n",
    "\n",
    "# with open_xlsb('./Case-Study 1 Dataset.xlsb') as wb:\n",
    "#     with wb.get_sheet('Static Data') as sheet:\n",
    "#         for row in sheet.rows():\n",
    "#             data.append([item.v for item in row])\n",
    "\n",
    "# df = pd.DataFrame(data=data[1:],columns=data[0])\n",
    "\n",
    "# df.shape"
   ]
  },
  {
   "cell_type": "code",
   "execution_count": null,
   "metadata": {},
   "outputs": [],
   "source": [
    "import pandas as pd\n",
    "import matplotlib.pyplot as plt"
   ]
  },
  {
   "cell_type": "markdown",
   "metadata": {},
   "source": [
    "# static data"
   ]
  },
  {
   "cell_type": "code",
   "execution_count": 1,
   "metadata": {},
   "outputs": [
    {
     "name": "stderr",
     "output_type": "stream",
     "text": [
      "/root/anaconda3/envs/shopin/lib/python3.5/importlib/_bootstrap.py:222: RuntimeWarning: numpy.dtype size changed, may indicate binary incompatibility. Expected 96, got 88\n",
      "  return f(*args, **kwds)\n",
      "/root/anaconda3/envs/shopin/lib/python3.5/importlib/_bootstrap.py:222: RuntimeWarning: numpy.dtype size changed, may indicate binary incompatibility. Expected 96, got 88\n",
      "  return f(*args, **kwds)\n"
     ]
    }
   ],
   "source": [
    "stat_data=pd.read_excel('./Case-Study 1 Dataset.xlsx',sheet_name='Static Data',date_parser=True,na_values=['NA',' -   ',' NA '])\n",
    "\n",
    "stat_data.head()"
   ]
  },
  {
   "cell_type": "markdown",
   "metadata": {},
   "source": [
    "# performance data\n",
    "<b>`agg_col`</b>:\n",
    "    this is the aggregated column that has been made by taking mode across all the months for a given loanID"
   ]
  },
  {
   "cell_type": "code",
   "execution_count": 87,
   "metadata": {},
   "outputs": [
    {
     "data": {
      "text/html": [
       "<div>\n",
       "<style scoped>\n",
       "    .dataframe tbody tr th:only-of-type {\n",
       "        vertical-align: middle;\n",
       "    }\n",
       "\n",
       "    .dataframe tbody tr th {\n",
       "        vertical-align: top;\n",
       "    }\n",
       "\n",
       "    .dataframe thead th {\n",
       "        text-align: right;\n",
       "    }\n",
       "</style>\n",
       "<table border=\"1\" class=\"dataframe\">\n",
       "  <thead>\n",
       "    <tr style=\"text-align: right;\">\n",
       "      <th></th>\n",
       "      <th>LoanID</th>\n",
       "      <th>Status 12</th>\n",
       "      <th>Status 24</th>\n",
       "      <th>Agg_col</th>\n",
       "    </tr>\n",
       "  </thead>\n",
       "  <tbody>\n",
       "    <tr>\n",
       "      <th>0</th>\n",
       "      <td>1</td>\n",
       "      <td>NaN</td>\n",
       "      <td>NaN</td>\n",
       "      <td>0.0</td>\n",
       "    </tr>\n",
       "    <tr>\n",
       "      <th>1</th>\n",
       "      <td>2</td>\n",
       "      <td>0.0</td>\n",
       "      <td>0.0</td>\n",
       "      <td>0.0</td>\n",
       "    </tr>\n",
       "    <tr>\n",
       "      <th>2</th>\n",
       "      <td>3</td>\n",
       "      <td>0.0</td>\n",
       "      <td>0.0</td>\n",
       "      <td>0.0</td>\n",
       "    </tr>\n",
       "    <tr>\n",
       "      <th>3</th>\n",
       "      <td>4</td>\n",
       "      <td>0.0</td>\n",
       "      <td>0.0</td>\n",
       "      <td>0.0</td>\n",
       "    </tr>\n",
       "    <tr>\n",
       "      <th>4</th>\n",
       "      <td>5</td>\n",
       "      <td>0.0</td>\n",
       "      <td>0.0</td>\n",
       "      <td>0.0</td>\n",
       "    </tr>\n",
       "  </tbody>\n",
       "</table>\n",
       "</div>"
      ],
      "text/plain": [
       "   LoanID  Status 12  Status 24  Agg_col\n",
       "0       1        NaN        NaN      0.0\n",
       "1       2        0.0        0.0      0.0\n",
       "2       3        0.0        0.0      0.0\n",
       "3       4        0.0        0.0      0.0\n",
       "4       5        0.0        0.0      0.0"
      ]
     },
     "execution_count": 87,
     "metadata": {},
     "output_type": "execute_result"
    }
   ],
   "source": [
    "per_data=pd.read_csv('./agg_performance.csv',na_values=['#NA'])\n",
    "per_data.head()"
   ]
  },
  {
   "cell_type": "code",
   "execution_count": 88,
   "metadata": {},
   "outputs": [
    {
     "data": {
      "text/plain": [
       "Index(['Year', 'LoanID', 'Original Loan Size', 'Origination Date',\n",
       "       'Original Term', 'APR', 'Loan Rate', 'LTV', 'Monthly Instalment',\n",
       "       'Type 1', 'Type 2', 'Borrower employement status', 'Risk Tier',\n",
       "       'Exposure At Default', 'Further Recovery Expected Y/N',\n",
       "       'Recoveries @ 6m', 'Recoveries @ 9m', 'Recoveries @ 12m',\n",
       "       'Total Recovery', 'Prepayment Amount', 'Status 12', 'Status 24',\n",
       "       'Agg_col'],\n",
       "      dtype='object')"
      ]
     },
     "execution_count": 88,
     "metadata": {},
     "output_type": "execute_result"
    }
   ],
   "source": [
    "main_data=pd.concat(objs=[stat_data,per_data],axis=1)\n",
    "main_data=main_data.loc[:,~main_data.columns.duplicated()]\n",
    "\n",
    "main_data=main_data.rename(columns={\"Borrower's Employment Status\":'Borrower employement status'})\n",
    "\n",
    "main_data.columns"
   ]
  },
  {
   "cell_type": "code",
   "execution_count": 89,
   "metadata": {},
   "outputs": [
    {
     "data": {
      "text/plain": [
       "0.0    11102\n",
       "1.0     1024\n",
       "Name: Status 24, dtype: int64"
      ]
     },
     "execution_count": 89,
     "metadata": {},
     "output_type": "execute_result"
    }
   ],
   "source": [
    "main_data['Status 12'].value_counts()\n",
    "main_data['Status 24'].value_counts()"
   ]
  },
  {
   "cell_type": "markdown",
   "metadata": {},
   "source": [
    "# outlier clipping: \n",
    "For all numerical column i am clipping otliers by 99 percentile. "
   ]
  },
  {
   "cell_type": "code",
   "execution_count": 91,
   "metadata": {},
   "outputs": [
    {
     "name": "stderr",
     "output_type": "stream",
     "text": [
      "/root/anaconda3/envs/shopin/lib/python3.5/site-packages/ipykernel_launcher.py:5: FutureWarning: Method .as_matrix will be removed in a future version. Use .values instead.\n",
      "  \"\"\"\n"
     ]
    }
   ],
   "source": [
    "val_col=[ 'Original Loan Size', 'Original Term', 'APR',\n",
    "       'Loan Rate', 'LTV', 'Monthly Instalment']\n",
    "\n",
    "for col in val_col:\n",
    "    val=main_data[col].quantile([0.99]).as_matrix()[0]\n",
    "    main_data[col]=[val if i>val else i for i in main_data[col]]"
   ]
  },
  {
   "cell_type": "code",
   "execution_count": 132,
   "metadata": {},
   "outputs": [],
   "source": [
    "train_data=main_data[main_data['Status 12'].notnull()]"
   ]
  },
  {
   "cell_type": "code",
   "execution_count": 133,
   "metadata": {},
   "outputs": [
    {
     "data": {
      "text/plain": [
       "0.0    1200\n",
       "1.0    1147\n",
       "Name: Status 12, dtype: int64"
      ]
     },
     "execution_count": 133,
     "metadata": {},
     "output_type": "execute_result"
    }
   ],
   "source": [
    "def_1=train_data[train_data['Status 12']==1]\n",
    "def_2=train_data[train_data['Status 12']==0].sample(1200)\n",
    "train_data=pd.concat(objs=[def_1,def_2])\n",
    "train_data['Status 12'].value_counts()"
   ]
  },
  {
   "cell_type": "code",
   "execution_count": 134,
   "metadata": {},
   "outputs": [
    {
     "data": {
      "text/plain": [
       "Type 1                         0\n",
       "Type 2                         0\n",
       "Borrower employement status    0\n",
       "Risk Tier                      0\n",
       "dtype: int64"
      ]
     },
     "execution_count": 134,
     "metadata": {},
     "output_type": "execute_result"
    }
   ],
   "source": [
    "train_data[['Type 1', 'Type 2', 'Borrower employement status', 'Risk Tier']].isnull().sum()"
   ]
  },
  {
   "cell_type": "markdown",
   "metadata": {},
   "source": [
    "### Label encoding:\n",
    "Here i am creating dummy variables for categorical columns. "
   ]
  },
  {
   "cell_type": "code",
   "execution_count": 135,
   "metadata": {},
   "outputs": [
    {
     "data": {
      "text/plain": [
       "Index(['Year', 'LoanID', 'Original Loan Size', 'Origination Date',\n",
       "       'Original Term', 'APR', 'Loan Rate', 'LTV', 'Monthly Instalment',\n",
       "       'Type 1', 'Type 2', 'Borrower employement status', 'Risk Tier',\n",
       "       'Exposure At Default', 'Further Recovery Expected Y/N',\n",
       "       'Recoveries @ 6m', 'Recoveries @ 9m', 'Recoveries @ 12m',\n",
       "       'Total Recovery', 'Prepayment Amount', 'Status 12', 'Status 24',\n",
       "       'Agg_col', 'Type 1_A', 'Type 1_B', 'Type 1_C', 'Type 2_A', 'Type 2_B',\n",
       "       'Type 2_C', 'Borrower employement status_Employed',\n",
       "       'Borrower employement status_Other',\n",
       "       'Borrower employement status_Self-employed', 'Risk Tier_Tier 1',\n",
       "       'Risk Tier_Tier 2', 'Risk Tier_Tier 3', 'Risk Tier_Tier 4',\n",
       "       'Risk Tier_Tier 5', 'Risk Tier_Tier 6', 'Risk Tier_Tier 7',\n",
       "       'Risk Tier_Tier 8', 'Risk Tier_Untiered'],\n",
       "      dtype='object')"
      ]
     },
     "execution_count": 135,
     "metadata": {},
     "output_type": "execute_result"
    }
   ],
   "source": [
    "train_data=train_data.join(pd.get_dummies(train_data[['Type 1','Type 2','Borrower employement status', 'Risk Tier']]))\n",
    "train_data.columns"
   ]
  },
  {
   "cell_type": "markdown",
   "metadata": {},
   "source": [
    "### I have found high correlation between below variables.\n",
    "* `Original Loan Size` and `Monthly Instalment`\n",
    "* `APR` and `Loan Rate` "
   ]
  },
  {
   "cell_type": "code",
   "execution_count": 136,
   "metadata": {},
   "outputs": [],
   "source": [
    "train_num_col=[ \n",
    "       'Original Term', 'APR', 'LTV', 'Monthly Instalment',\n",
    "       'Agg_col', \n",
    "        'Type 1_A', 'Type 1_B', 'Type 1_C', 'Type 2_A',\n",
    "       'Type 2_B', 'Type 2_C', 'Borrower employement status_Employed',\n",
    "       'Borrower employement status_Other',\n",
    "       'Borrower employement status_Self-employed', 'Risk Tier_Tier 1',\n",
    "       'Risk Tier_Tier 2', 'Risk Tier_Tier 3', 'Risk Tier_Tier 4',\n",
    "       'Risk Tier_Tier 5', 'Risk Tier_Tier 6', 'Risk Tier_Tier 7',\n",
    "       'Risk Tier_Tier 8', 'Risk Tier_Untiered']"
   ]
  },
  {
   "cell_type": "code",
   "execution_count": 137,
   "metadata": {},
   "outputs": [],
   "source": [
    "import sklearn\n",
    "\n",
    "from sklearn.model_selection import train_test_split\n",
    "X_train, X_test, y_train, y_test = train_test_split(train_data[train_num_col], train_data['Status 12'], test_size=0.2, stratify= train_data['Status 12'],random_state=42)"
   ]
  },
  {
   "cell_type": "markdown",
   "metadata": {},
   "source": [
    "## Random forest classifier"
   ]
  },
  {
   "cell_type": "code",
   "execution_count": 138,
   "metadata": {},
   "outputs": [
    {
     "name": "stderr",
     "output_type": "stream",
     "text": [
      "/root/anaconda3/envs/shopin/lib/python3.5/site-packages/sklearn/ensemble/forest.py:248: FutureWarning: The default value of n_estimators will change from 10 in version 0.20 to 100 in 0.22.\n",
      "  \"10 in version 0.20 to 100 in 0.22.\", FutureWarning)\n"
     ]
    },
    {
     "data": {
      "text/plain": [
       "RandomForestClassifier(bootstrap=True, class_weight=None, criterion='gini',\n",
       "            max_depth=None, max_features='auto', max_leaf_nodes=None,\n",
       "            min_impurity_decrease=0.0, min_impurity_split=None,\n",
       "            min_samples_leaf=1, min_samples_split=2,\n",
       "            min_weight_fraction_leaf=0.0, n_estimators=10, n_jobs=6,\n",
       "            oob_score=False, random_state=1, verbose=0, warm_start=False)"
      ]
     },
     "execution_count": 138,
     "metadata": {},
     "output_type": "execute_result"
    }
   ],
   "source": [
    "from sklearn.ensemble import RandomForestClassifier\n",
    "\n",
    "clf=RandomForestClassifier(n_jobs=6, random_state=1)\n",
    "clf.fit(X_train,y_train)"
   ]
  },
  {
   "cell_type": "code",
   "execution_count": 139,
   "metadata": {},
   "outputs": [],
   "source": [
    "y_pred=clf.predict(X_test)"
   ]
  },
  {
   "cell_type": "code",
   "execution_count": 140,
   "metadata": {},
   "outputs": [
    {
     "name": "stdout",
     "output_type": "stream",
     "text": [
      "Confusion matrix\n",
      "[[235   5]\n",
      " [ 30 200]]\n"
     ]
    },
    {
     "data": {
      "image/png": "[encoded data removed]",
      "text/plain": [
       "<Figure size 432x288 with 2 Axes>"
      ]
     },
     "metadata": {
      "needs_background": "light"
     },
     "output_type": "display_data"
    }
   ],
   "source": [
    "import itertools\n",
    "def plot_confusion_matrix(cm, classes,\n",
    "                          normalize=False,\n",
    "                          title='Confusion matrix',\n",
    "                          cmap=plt.cm.Blues):\n",
    "    \"\"\"\n",
    "    This function prints and plots the confusion matrix.\n",
    "    Normalization can be applied by setting `normalize=True`.\n",
    "    \"\"\"\n",
    "    if normalize:\n",
    "        cm = cm.astype('float') / cm.sum(axis=1)[:, np.newaxis]\n",
    "        print(\"Normalized confusion matrix\")\n",
    "    else:\n",
    "        print('Confusion matrix')\n",
    "\n",
    "    print(cm)\n",
    "\n",
    "    plt.imshow(cm, interpolation='nearest', cmap=cmap)\n",
    "    plt.title(title)\n",
    "    plt.colorbar()\n",
    "    tick_marks = np.arange(len(classes))\n",
    "    plt.xticks(tick_marks, classes, rotation=45)\n",
    "    plt.yticks(tick_marks, classes)\n",
    "\n",
    "    fmt = '.2f' if normalize else 'd'\n",
    "    thresh = cm.max() / 2.\n",
    "    for i, j in itertools.product(range(cm.shape[0]), range(cm.shape[1])):\n",
    "        plt.text(j, i, format(cm[i, j], fmt),\n",
    "                 horizontalalignment=\"center\",\n",
    "                 color=\"white\" if cm[i, j] > thresh else \"black\")\n",
    "\n",
    "    plt.ylabel('True label')\n",
    "    plt.xlabel('Predicted label')\n",
    "    plt.tight_layout()\n",
    "\n",
    "import numpy as np\n",
    "# Compute confusion matrix\n",
    "cnf_matrix = confusion_matrix(y_test, y_pred)\n",
    "np.set_printoptions(precision=2)\n",
    "\n",
    "# Plot non-normalized confusion matrix\n",
    "plt.figure()\n",
    "plot_confusion_matrix(cnf_matrix, classes=['non-default','default'],\n",
    "                      title='Confusion matrix, without normalization')\n"
   ]
  },
  {
   "cell_type": "code",
   "execution_count": null,
   "metadata": {},
   "outputs": [],
   "source": []
  },
  {
   "cell_type": "code",
   "execution_count": 141,
   "metadata": {},
   "outputs": [
    {
     "name": "stdout",
     "output_type": "stream",
     "text": [
      "              precision    recall  f1-score   support\n",
      "\n",
      "         0.0     0.8868    0.9792    0.9307       240\n",
      "         1.0     0.9756    0.8696    0.9195       230\n",
      "\n",
      "   micro avg     0.9255    0.9255    0.9255       470\n",
      "   macro avg     0.9312    0.9244    0.9251       470\n",
      "weighted avg     0.9303    0.9255    0.9252       470\n",
      "\n"
     ]
    }
   ],
   "source": [
    "from sklearn.metrics import accuracy_score\n",
    "from sklearn.metrics import classification_report\n",
    "\n",
    "print(classification_report(y_test,y_pred,digits=4))"
   ]
  },
  {
   "cell_type": "code",
   "execution_count": 101,
   "metadata": {},
   "outputs": [],
   "source": [
    "var_dict=dict(zip(X_train.columns,clf.feature_importances_))\n",
    "var_dict_sorted=sorted(var_dict.items(), key=lambda kv: kv[1],reverse=True)"
   ]
  },
  {
   "cell_type": "code",
   "execution_count": 102,
   "metadata": {},
   "outputs": [
    {
     "name": "stdout",
     "output_type": "stream",
     "text": [
      "variable is Agg_col and feature importance is 0.5873423566863996\n",
      "variable is Original Loan Size and feature importance is 0.06373125897364965\n",
      "variable is Monthly Instalment and feature importance is 0.06242242699650591\n",
      "variable is Loan Rate and feature importance is 0.061394056864963964\n",
      "variable is LTV and feature importance is 0.060769619070819084\n",
      "variable is APR and feature importance is 0.060340946370207\n",
      "variable is Original Term and feature importance is 0.041489960833028576\n",
      "variable is Type 2_A and feature importance is 0.007995199075414613\n",
      "variable is Type 2_C and feature importance is 0.006550307652685506\n",
      "variable is Risk Tier_Tier 5 and feature importance is 0.005935083134713984\n"
     ]
    }
   ],
   "source": [
    "for i,j in var_dict_sorted[0:10]:\n",
    "    print('variable is {} and feature importance is {}'.format(i,j))"
   ]
  },
  {
   "cell_type": "markdown",
   "metadata": {},
   "source": [
    "## classification with logistic regression"
   ]
  },
  {
   "cell_type": "code",
   "execution_count": null,
   "metadata": {},
   "outputs": [],
   "source": []
  },
  {
   "cell_type": "code",
   "execution_count": 127,
   "metadata": {},
   "outputs": [],
   "source": [
    "num_col=['Original Loan Size', 'Original Term', 'APR', 'LTV',  'Agg_col']\n",
    "cat_col=[ 'Type 1_A', 'Type 1_B', 'Type 1_C', 'Type 2_A', 'Type 2_B', 'Type 2_C', 'Borrower employement status_Employed', 'Borrower employement status_Other', 'Borrower employement status_Self-employed', 'Risk Tier_Tier 1', 'Risk Tier_Tier 2', 'Risk Tier_Tier 3', 'Risk Tier_Tier 4', 'Risk Tier_Tier 5', 'Risk Tier_Tier 6', 'Risk Tier_Tier 7', 'Risk Tier_Tier 8', 'Risk Tier_Untiered']"
   ]
  },
  {
   "cell_type": "code",
   "execution_count": 128,
   "metadata": {},
   "outputs": [],
   "source": [
    "from sklearn import preprocessing\n",
    "scaled_data=preprocessing.scale(train_data[num_col])\n",
    "\n",
    "scale_train_data=pd.DataFrame(np.append(pd.DataFrame(scaled_data,columns=num_col),train_data[cat_col],axis=1))"
   ]
  },
  {
   "cell_type": "code",
   "execution_count": 129,
   "metadata": {},
   "outputs": [],
   "source": [
    "import sklearn\n",
    "from sklearn.model_selection import train_test_split\n",
    "X_train, X_test, y_train, y_test = train_test_split(scale_train_data, train_data['Status 12'], test_size=0.2, stratify= train_data['Status 12'],random_state=42)"
   ]
  },
  {
   "cell_type": "code",
   "execution_count": 130,
   "metadata": {},
   "outputs": [
    {
     "name": "stderr",
     "output_type": "stream",
     "text": [
      "/root/anaconda3/envs/shopin/lib/python3.5/site-packages/sklearn/linear_model/logistic.py:757: ConvergenceWarning: lbfgs failed to converge. Increase the number of iterations.\n",
      "  \"of iterations.\", ConvergenceWarning)\n"
     ]
    }
   ],
   "source": [
    "from sklearn.datasets import load_iris\n",
    "from sklearn.linear_model import LogisticRegression\n",
    "clf = LogisticRegression(random_state=0, solver='lbfgs',\n",
    "                          ).fit(X_train, y_train)\n",
    "y_pred=clf.predict(X_test)"
   ]
  },
  {
   "cell_type": "code",
   "execution_count": 131,
   "metadata": {},
   "outputs": [
    {
     "name": "stdout",
     "output_type": "stream",
     "text": [
      "Confusion matrix\n",
      "[[6465   67]\n",
      " [  26  203]]\n"
     ]
    },
    {
     "data": {
      "image/png": "[encoded data removed]",
      "text/plain": [
       "<Figure size 432x288 with 2 Axes>"
      ]
     },
     "metadata": {
      "needs_background": "light"
     },
     "output_type": "display_data"
    }
   ],
   "source": [
    "import numpy as np\n",
    "# Compute confusion matrix\n",
    "cnf_matrix = confusion_matrix(y_test, y_pred)\n",
    "np.set_printoptions(precision=2)\n",
    "plt.figure()\n",
    "plot_confusion_matrix(cnf_matrix, classes=['non-default','default'],\n",
    "                      title='Confusion matrix, without normalization')"
   ]
  },
  {
   "cell_type": "code",
   "execution_count": 56,
   "metadata": {},
   "outputs": [
    {
     "data": {
      "text/plain": [
       "[<matplotlib.lines.Line2D at 0x7f98bc2782e8>,\n",
       " <matplotlib.lines.Line2D at 0x7f98bc2784e0>,\n",
       " <matplotlib.lines.Line2D at 0x7f98bc278630>]"
      ]
     },
     "execution_count": 56,
     "metadata": {},
     "output_type": "execute_result"
    },
    {
     "data": {
      "image/png": "[encoded data removed]",
      "text/plain": [
       "<Figure size 432x288 with 1 Axes>"
      ]
     },
     "metadata": {
      "needs_background": "light"
     },
     "output_type": "display_data"
    }
   ],
   "source": [
    "%matplotlib inline\n",
    "from sklearn.metrics import roc_curve\n",
    "plt.plot(roc_curve(y_test,y_pred))"
   ]
  },
  {
   "cell_type": "code",
   "execution_count": null,
   "metadata": {},
   "outputs": [],
   "source": []
  },
  {
   "cell_type": "code",
   "execution_count": 142,
   "metadata": {},
   "outputs": [
    {
     "name": "stderr",
     "output_type": "stream",
     "text": [
      "/root/anaconda3/envs/shopin/lib/python3.5/site-packages/sklearn/preprocessing/_encoders.py:363: FutureWarning: The handling of integer data will change in version 0.22. Currently, the categories are determined based on the range [0, max(values)], while in the future they will be determined based on the unique values.\n",
      "If you want the future behaviour and silence this warning, you can specify \"categories='auto'\".\n",
      "In case you used a LabelEncoder before this OneHotEncoder to convert the categories to integers, then you can now use the OneHotEncoder directly.\n",
      "  warnings.warn(msg, FutureWarning)\n"
     ]
    },
    {
     "data": {
      "text/plain": [
       "array([[0., 1.],\n",
       "       [0., 1.],\n",
       "       [0., 1.],\n",
       "       ...,\n",
       "       [1., 0.],\n",
       "       [1., 0.],\n",
       "       [1., 0.]])"
      ]
     },
     "execution_count": 142,
     "metadata": {},
     "output_type": "execute_result"
    }
   ],
   "source": [
    "from sklearn import preprocessing\n",
    "le = preprocessing.LabelEncoder()\n",
    "le.fit(train_data['Status 12'])\n",
    "y_label=le.transform(train_data['Status 12'])\n",
    "y_label\n",
    "\n",
    "from sklearn.preprocessing import OneHotEncoder\n",
    "import numpy as np\n",
    "y_encoded=np.array(y_label).reshape(len(train_data),1)\n",
    "one_enc=OneHotEncoder(sparse=False)\n",
    "y_encoded=one_enc.fit_transform(y_encoded)\n",
    "y_encoded"
   ]
  },
  {
   "cell_type": "code",
   "execution_count": 143,
   "metadata": {},
   "outputs": [],
   "source": [
    "import sklearn\n",
    "\n",
    "from sklearn.model_selection import train_test_split\n",
    "X_train, X_test, y_train, y_test = train_test_split(train_data[train_num_col], y_encoded, test_size=0.2, stratify= y_encoded,random_state=42)"
   ]
  },
  {
   "cell_type": "code",
   "execution_count": 144,
   "metadata": {},
   "outputs": [
    {
     "name": "stdout",
     "output_type": "stream",
     "text": [
      "_________________________________________________________________\n",
      "Layer (type)                 Output Shape              Param #   \n",
      "=================================================================\n",
      "dense_8 (Dense)              (None, 32)                832       \n",
      "_________________________________________________________________\n",
      "dense_9 (Dense)              (None, 64)                2112      \n",
      "_________________________________________________________________\n",
      "dropout_4 (Dropout)          (None, 64)                0         \n",
      "_________________________________________________________________\n",
      "dense_10 (Dense)             (None, 128)               8320      \n",
      "_________________________________________________________________\n",
      "dropout_5 (Dropout)          (None, 128)               0         \n",
      "_________________________________________________________________\n",
      "dense_11 (Dense)             (None, 128)               16512     \n",
      "_________________________________________________________________\n",
      "dropout_6 (Dropout)          (None, 128)               0         \n",
      "_________________________________________________________________\n",
      "dense_12 (Dense)             (None, 256)               33024     \n",
      "_________________________________________________________________\n",
      "dense_13 (Dense)             (None, 128)               32896     \n",
      "_________________________________________________________________\n",
      "dense_14 (Dense)             (None, 2)                 258       \n",
      "=================================================================\n",
      "Total params: 93,954\n",
      "Trainable params: 93,954\n",
      "Non-trainable params: 0\n",
      "_________________________________________________________________\n"
     ]
    }
   ],
   "source": [
    "from sklearn.feature_extraction.text import CountVectorizer\n",
    "import keras\n",
    "from keras.layers import merge, Input,InputLayer\n",
    "from keras.engine import InputLayer\n",
    "from keras.layers import Dense, Activation, Flatten,Dropout,MaxPool2D,MaxPool1D\n",
    "from keras.layers.core import Activation, Dense, Flatten\n",
    "from keras.models import Sequential\n",
    "from keras.layers import Dense\n",
    "from keras.layers.normalization import BatchNormalization\n",
    "\n",
    "model = Sequential()\n",
    "model.add(Dense(32,input_dim=25,activation='relu'))\n",
    "model.add(Dense(64,activation='relu'))\n",
    "model.add(Dropout(0.2))\n",
    "model.add(Dense(128, activation='relu'))\n",
    "model.add(Dropout(0.2))\n",
    "model.add(Dense(128, activation='relu'))\n",
    "model.add(Dropout(0.2))\n",
    "model.add(Dense(256, activation='relu'))\n",
    "model.add(Dense(128, activation='relu'))\n",
    "model.add(Dense(2, activation='softmax'))\n",
    "model.compile(loss='categorical_crossentropy', optimizer='adam', metrics=['accuracy'])\n",
    "model.summary()"
   ]
  },
  {
   "cell_type": "code",
   "execution_count": 146,
   "metadata": {},
   "outputs": [
    {
     "name": "stdout",
     "output_type": "stream",
     "text": [
      "Train on 1783 samples, validate on 94 samples\n",
      "Epoch 1/10\n",
      "1783/1783 [==============================] - 0s 97us/step - loss: 7.8828 - acc: 0.5109 - val_loss: 7.7161 - val_acc: 0.5213\n",
      "Epoch 2/10\n",
      "1783/1783 [==============================] - 0s 108us/step - loss: 7.8828 - acc: 0.5109 - val_loss: 7.7161 - val_acc: 0.5213\n",
      "Epoch 3/10\n",
      "1783/1783 [==============================] - 0s 101us/step - loss: 7.8828 - acc: 0.5109 - val_loss: 7.7161 - val_acc: 0.5213\n",
      "Epoch 4/10\n",
      "1783/1783 [==============================] - 0s 101us/step - loss: 7.8828 - acc: 0.5109 - val_loss: 7.7161 - val_acc: 0.5213\n",
      "Epoch 5/10\n",
      "1783/1783 [==============================] - 0s 101us/step - loss: 7.8828 - acc: 0.5109 - val_loss: 7.7161 - val_acc: 0.5213\n",
      "Epoch 6/10\n",
      "1783/1783 [==============================] - 0s 99us/step - loss: 7.8828 - acc: 0.5109 - val_loss: 7.7161 - val_acc: 0.5213\n",
      "Epoch 7/10\n",
      "1783/1783 [==============================] - 0s 99us/step - loss: 7.8828 - acc: 0.5109 - val_loss: 7.7161 - val_acc: 0.5213\n",
      "Epoch 8/10\n",
      "1783/1783 [==============================] - 0s 99us/step - loss: 7.8828 - acc: 0.5109 - val_loss: 7.7161 - val_acc: 0.5213\n",
      "Epoch 9/10\n",
      "1783/1783 [==============================] - 0s 96us/step - loss: 7.8828 - acc: 0.5109 - val_loss: 7.7161 - val_acc: 0.5213\n",
      "Epoch 10/10\n",
      "1783/1783 [==============================] - 0s 99us/step - loss: 7.8828 - acc: 0.5109 - val_loss: 7.7161 - val_acc: 0.5213\n"
     ]
    },
    {
     "data": {
      "text/plain": [
       "<keras.callbacks.History at 0x7f98bcec9da0>"
      ]
     },
     "execution_count": 146,
     "metadata": {},
     "output_type": "execute_result"
    }
   ],
   "source": [
    "model.fit(x=X_train, y=y_train, epochs=10, batch_size=64,validation_split=0.05)"
   ]
  },
  {
   "cell_type": "code",
   "execution_count": 147,
   "metadata": {},
   "outputs": [
    {
     "name": "stdout",
     "output_type": "stream",
     "text": [
      "              precision    recall  f1-score   support\n",
      "\n",
      "           0     0.5106    1.0000    0.6761       240\n",
      "           1     0.0000    0.0000    0.0000       230\n",
      "\n",
      "   micro avg     0.5106    0.5106    0.5106       470\n",
      "   macro avg     0.2553    0.5000    0.3380       470\n",
      "weighted avg     0.2608    0.5106    0.3452       470\n",
      " samples avg     0.5106    0.5106    0.5106       470\n",
      "\n"
     ]
    },
    {
     "name": "stderr",
     "output_type": "stream",
     "text": [
      "/root/anaconda3/envs/shopin/lib/python3.5/site-packages/sklearn/metrics/classification.py:1143: UndefinedMetricWarning: Precision and F-score are ill-defined and being set to 0.0 in labels with no predicted samples.\n",
      "  'precision', 'predicted', average, warn_for)\n"
     ]
    }
   ],
   "source": [
    "y_pred=model.predict(X_test)\n",
    "\n",
    "from sklearn.metrics import accuracy_score\n",
    "from sklearn.metrics import classification_report\n",
    "\n",
    "print(classification_report(y_test,y_pred,digits=4))"
   ]
  },
  {
   "cell_type": "markdown",
   "metadata": {},
   "source": [
    "### It is quite clear that MLP is performing quite poor while predicting default class(number of data points are quite low)."
   ]
  },
  {
   "cell_type": "code",
   "execution_count": null,
   "metadata": {},
   "outputs": [],
   "source": []
  },
  {
   "cell_type": "code",
   "execution_count": null,
   "metadata": {},
   "outputs": [],
   "source": []
  }
 ],
 "metadata": {
  "kernelspec": {
   "display_name": "Python 3 (shopin)",
   "language": "python",
   "name": "shopin"
  },
  "language_info": {
   "codemirror_mode": {
    "name": "ipython",
    "version": 3
   },
   "file_extension": ".py",
   "mimetype": "text/x-python",
   "name": "python",
   "nbconvert_exporter": "python",
   "pygments_lexer": "ipython3",
   "version": "3.5.6"
  }
 },
 "nbformat": 4,
 "nbformat_minor": 2
}
